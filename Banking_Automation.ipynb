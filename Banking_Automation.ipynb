from tkinter import *
#from tkinter import PhotoImage
from tkinter.ttk import Combobox
from tkinter import messagebox
from datetime import datetime
import time

import sqlite3
try:
    conobj=sqlite3.connect(database="banking.sqlite")
    curobj=conobj.cursor()
    curobj.execute("create table accounts(acn integer primary key autoincrement,name text,pass text, email text, mob text, bal float, type text, opendate text)")
    conobj.commit()
    print("table created")

except:
    print("something went wrong,might be table already exists")
conobj.close()


win=Tk()
win.geometry("600x500+350+100")
win.resizable(width=False,height=False)
win.configure(bg="sky blue")

date=Label(win,text=f"{datetime.now()}",width=26,font=('arial',10,'bold'),bg='sky blue')
date.place(relx=.76,rely=.07)

l1_Banking_Automation=Label(win,text="Banking Automation",font=('arial',17,'bold','underline'),bg='sky blue')
l1_Banking_Automation.place(relx=.34,rely=.03)

#img=PhotoImage(file='C:\Users\Gangotri yadav\Desktop\Vijaypy\project\bank.jpg')
#img_lebel=Label(win,image=img)
#img_lebel.place(relx=0,rely=0)

def mainscreen():
    frm=Frame(win)
    frm.configure(bg='yellow')
    frm.place(relx=.0,rely=.11,relwidth=1.0,relheight=1.0)
    
    def new():
        frm.destroy()
        newuserscreen()
        
    def fpback():
        frm.destroy()
        fpscreen()
        
    def loginHome():
        acn=e1_Account.get()
        pwd=e1_Password.get()
        if len(acn)==0 or len(pwd)==0:
            messagebox.showerror("login ","Empty filed are not allow")
        else:
            conobj=sqlite3.connect(database="banking.sqlite")
            curobj=conobj.cursor()
            curobj.execute("select * from accounts where acn=? and pass=?",(acn,pwd))
            tup=curobj.fetchone()
            if tup==None:
                messagebox.showerror("login","Invalid acn/password")
            else:
                global uacn,uname
                uacn=tup[0]
                uname=tup[1]
                frm.destroy()
                login()
        
    def Reset():
        e1_Account.delete(0,"end")
        e1_Password.delete(0,"end")
        e1_Account.focus()
        
    
    b1_login=Button(win,text="Login",command=loginHome,bd=5,width=6,font=('arial',15,'bold'))
    b1_login.place(relx=.2,rely=.7)

    b2_Reset=Button(win,text="Reset",bd=5,width=6,font=('arial',15,'bold'),command=Reset)
    b2_Reset.place(relx=.4,rely=.7)

    b3_New=Button(win,text="New A/C",bd=5,width=8,font=('arial',16,'bold'),command=new)
    b3_New.place(relx=.8,rely=.11)

    b4_Forgotpass=Button(win,text="Forgotpass",command=fpback, bd=5,width=10,font=('arial',15,'bold'))
    b4_Forgotpass.place(relx=.6,rely=.7)

    l2_Account_no=Label(win,text="Account",bd=5,font=('arial',15,'bold'),bg='yellow')
    l3_Password=Label(win,text="Password",bd=5,font=('arial',15,'bold'),bg='yellow')

    l2_Account_no.place(relx=.2,rely=.30)
    l3_Password.place(relx=.2,rely=.45)

    e1_Account=Entry(win,bd=5,font=('arial',15,'bold'))
    e1_Password=Entry(win,bd=5,font=('arial',15,'bold',),show="*")

    e1_Account.place(relx=.45,rely=.30)
    e1_Password.place(relx=.45,rely=.45)

def login():
    frm=Frame(win)
    frm.configure(bg='pink')
    frm.place(relx=.0,rely=.11,relwidth=1.0,relheight=1.0)
    
    
    def Logout():
        frm.destroy()
        mainscreen()
        
    def Details():
        ifrm=Frame(frm,highlightbackground='black',highlightthickness=2)
        ifrm.configure(bg='white')
        ifrm.place(relx=.25,rely=.145,relwidth=.70,relheight=.50)
        
        lebel=Label(ifrm,text="Welcome to Account Details Screen",bg='white',font=('arial',15,'bold'),fg='blue')
        lebel.pack()
        
        conobj=sqlite3.connect(database="banking.sqlite")
        curobj=conobj.cursor()
        curobj.execute("select * from accounts where acn=?",(uacn,))
        tup=curobj.fetchone()
        conobj.close()
        
        def Close():
            ifrm.destroy()
            login()
            
        acn_detail=Label(win,text=f"Account No.\t {tup[0]}",bd=5,font=('arial',15,'bold'),bg='white')
        acn_detail.place(relx=.35,rely=.32)
        
        bal_detail=Label(win,text=f"Balance\t\t {tup[5]}",bd=5,font=('arial',15,'bold'),bg='white')
        bal_detail.place(relx=.35,rely=.40)
        
        type_detail=Label(win,text=f"Type\t\t {tup[6]}",bd=5,font=('arial',15,'bold'),bg='white')
        type_detail.place(relx=.35,rely=.48)
        
        opendate_detail=Label(win,text=f"Open date-{tup[7]}",bd=5,font=('arial',15,'bold'),bg='white')
        opendate_detail.place(relx=.35,rely=.56)
                          
        close_detail=Button(win,text="Close",bd=5,width=8,font=('arial',12,'bold'),command=Close)
        close_detail.place(relx=.52,rely=.66)
        
    
    def Profile():
        ifrm=Frame(frm,highlightbackground='black',highlightthickness=2)
        ifrm.configure(bg='white')
        ifrm.place(relx=.25,rely=.145,relwidth=.70,relheight=.50)
        
        #lebel=Label(ifrm,text="Welcome to Profile Screen",fg='blue',font=('arial',15,'bold'))
        #lebel.pack()
        
        def updatedb():
            name=ename_profile.get()
            pwd=epass_profile.get()
            email=eemail_profile.get()
            mob=emob_profile.get()
            
            conobj=sqlite3.connect(database="banking.sqlite")
            curobj=conobj.cursor()
            curobj.execute("update accounts set name=?,pass=?,email=?,mob=? where acn=?",(name,pwd,email,mob,uacn))
            conobj.commit()
            conobj.close()
            messagebox.showinfo("Update Profile","Record updated sucessfull")
            global uname
            uname=name
        def Close():
            ifrm.destroy()
            login()
            
        name_profile=Label(win,text="Name",bd=5,font=('arial',15,'bold'),bg='white')
        name_profile.place(relx=.30,rely=.28)
        ename_profile=Entry(win,bd=5,font=('arial',15,'bold'))
        ename_profile.place(relx=.50,rely=.28)
        
        pass_profile=Label(win,text="Password",bd=5,font=('arial',15,'bold'),bg='white')
        pass_profile.place(relx=.30,rely=.38)
        epass_profile=Entry(win,bd=5,font=('arial',15,'bold'))
        epass_profile.place(relx=.50,rely=.38)
                
        email_profile=Label(win,text="Email",bd=5,font=('arial',15,'bold'),bg='white')
        email_profile.place(relx=.30,rely=.48)
        eemail_profile=Entry(win,bd=5,font=('arial',15,'bold'))
        eemail_profile.place(relx=.50,rely=.48)
        
        mob_profile=Label(win,text="Mobile",bd=5,font=('arial',15,'bold'),bg='white')
        mob_profile.place(relx=.30,rely=.58)
        emob_profile=Entry(win,bd=5,font=('arial',15,'bold'))
        emob_profile.place(relx=.50,rely=.58)
        
        update_profile=Button(win,text="Update",bd=5,width=8,font=('arial',12,'bold'),command=updatedb)
        update_profile.place(relx=.48,rely=.66)
        
        close_profile=Button(win,text="Close",bd=5,width=8,font=('arial',12,'bold'),command=Close)
        close_profile.place(relx=.70,rely=.66)
        
        conobj=sqlite3.connect(database="banking.sqlite")
        curobj=conobj.cursor()
        curobj.execute("select * from accounts where acn=?",(uacn,))
        tup=curobj.fetchone()
        conobj.close()
        
        ename_profile.insert(0,tup[1])
        epass_profile.insert(0,tup[2])
        eemail_profile.insert(0,tup[3])
        emob_profile.insert(0,tup[4])
        
        
        
    def Deposit():
        ifrm=Frame(frm,highlightbackground='black',highlightthickness=2)
        ifrm.configure(bg='white')
        ifrm.place(relx=.25,rely=.145,relwidth=.70,relheight=.50)
        
        lebel=Label(ifrm,text="Welcome to Deposit Screen",bg='white',font=('arial',15,'bold'))
        lebel.pack()
        
        def depostidb():###########################################################
            Amt=float(eAmt_deposit.get())
            conobj=sqlite3.connect(database="banking.sqlite")
            curobj=conobj.cursor()
            curobj.execute("update accounts set bal=bal+? where acn=?",(Amt,uacn))
            conobj.commit()
            conobj.close()
            messagebox.showinfo("Deposit",f"Amount {Amt} updated")
        
            
            
        Amt_deposit=Label(ifrm,bd=5,text="Amount:",font=('arial',15,'bold'),fg='black',bg='white')
        Amt_deposit.place(relx=.1,rely=.20)
        eAmt_deposit=Entry(ifrm,bd=5,font=('arial',15,'bold'))
        eAmt_deposit.place(relx=.4,rely=.20)
        
        deposit_btn=Button(ifrm,text="Deposit",bd=5,width=8,font=('arial',12,'bold'),command=depostidb)
        deposit_btn.place(relx=.4,rely=.40)
        
    def Withdraw():
        ifrm=Frame(frm,highlightbackground='black',highlightthickness=2)
        ifrm.configure(bg='white')
        ifrm.place(relx=.25,rely=.145,relwidth=.70,relheight=.50)
        
        lebel=Label(ifrm,text="Welcome to Withdraw Screen",bg='white',font=('arial',15,'bold'))
        lebel.pack()
        
        def withdrawdb():
            amt=float(eAmt_with.get())
            conobj=sqlite3.connect(database="banking.sqlite")
            curobj=conobj.cursor()
            curobj.execute("select bal from accounts where acn=?",(uacn,))
            bal=curobj.fetchone()[0]
            curobj.close()
            if bal>=amt:
                curobj=conobj.cursor()
                curobj.execute("update accounts set bal=bal-? where acn=?",(amt,uacn))
                conobj.commit()
                curobj.close()
                messagebox.showinfo("Withdraw details",f"updated balance{bal}")
            else :
                messagebox.showwarning("Withdraw details","Amount is insufficient")
            
            
        Amt_with=Label(ifrm,bd=5,text="Amount:",font=('arial',15,'bold'),fg='black',bg='white')
        Amt_with.place(relx=.1,rely=.20)
        eAmt_with=Entry(ifrm,bd=5,font=('arial',15,'bold'))
        eAmt_with.place(relx=.4,rely=.20)
        
        withdraw_btn=Button(ifrm,text="Withdraw",bd=5,width=8,font=('arial',12,'bold'),command=withdrawdb)
        withdraw_btn.place(relx=.4,rely=.40)
        
    def Transfer():
        ifrm=Frame(frm,highlightbackground='black',highlightthickness=2)
        ifrm.configure(bg='white')
        ifrm.place(relx=.25,rely=.145,relwidth=.70,relheight=.50)
        
        lebel=Label(ifrm,text="Welcome to Transfer Screen",bg='white',font=('arial',15,'bold'))
        lebel.pack()
        
        def Transferdb():
            To=eTo_transfer.get()
            amt=float(eAmt_transfer.get())
            conobj=sqlite3.connect(database="banking.sqlite")
            curobj=conobj.cursor()
            curobj.execute("select * from accounts where acn=?",(To,))
            tup=curobj.fetchone()
            curobj.close()
            if tup==None:
                messagebox.showerror("Transfer","To ACN does not exist")
            else:
                curobj=conobj.cursor()
                curobj.execute("select bal from accounts where acn=?",(uacn,))
                bal=curobj.fetchone()[0]
                curobj.close()
                if bal>=amt:
                    curobj=conobj.cursor()
                    curobj.execute("update accounts set bal=bal-? where acn=?",(amt,uacn))
                    curobj.execute("update accounts set bal=bal+? where acn=?",(amt,To))
                    conobj.commit()
                    curobj.close()
                    messagebox.showinfo("Transfer",f"amount{amt} transfer to ACN{To}")
                else :
                    messagebox.showwarning("Withdraw details","Amount is insufficient")
 
        
        To_transfer=Label(ifrm,bd=5,text="To:",font=('arial',15,'bold'),fg='black',bg='white')
        To_transfer.place(relx=.1,rely=.20)
        eTo_transfer=Entry(ifrm,bd=5,font=('arial',15,'bold'))
        eTo_transfer.place(relx=.4,rely=.20)
        
        Amt_transfer=Label(ifrm,bd=5,text="Amount:",font=('arial',15,'bold'),fg='black',bg='white')
        Amt_transfer.place(relx=.1,rely=.40)
        eAmt_transfer=Entry(ifrm,bd=5,font=('arial',15,'bold'))
        eAmt_transfer.place(relx=.4,rely=.40)
        
        Transfer_btn=Button(ifrm,text="Transfer",bd=5,width=8,font=('arial',12,'bold'),command=Transferdb)
        Transfer_btn.place(relx=.4,rely=.60)
    
    
    Logout_btn=Button(win,text="Logout",bd=5,width=8,font=('arial',16,'bold'),command=Logout)
    Logout_btn.place(relx=.8,rely=.11)
    
    Welcome_lebel=Label(win,text=f"Welcome, {uname}",bg='pink',font=('arial',15,'bold'))
    Welcome_lebel.place(relx=.01,rely=.11)
    
    Details_btn=Button(win,command=Details,text="Details",bd=5,width=8,font=('arial',15,'bold'))
    Details_btn.place(relx=.02,rely=.25)
    
    Change_profile_btn=Button(win,command=Profile,text="Profile",bd=5,width=8,font=('arial',15,'bold'))
    Change_profile_btn.place(relx=.02,rely=.35)
    
    Deposit_btn=Button(win,text="Deposit",command=Deposit,bd=5,width=8,font=('arial',15,'bold'))
    Deposit_btn.place(relx=.02,rely=.45)
    
    Withdraw_btn=Button(win,text="Withdraw",command=Withdraw,bd=5,width=8,font=('arial',15,'bold'))
    Withdraw_btn.place(relx=.02,rely=.55)
    
    Transfer_btn=Button(win,text="Transfer",command=Transfer,bd=5,width=8,font=('arial',15,'bold'))
    Transfer_btn.place(relx=.02,rely=.65)
    

def newuserscreen():
    frm=Frame(win)
    frm.configure(bg='yellow')
    frm.place(relx=.0,rely=.11,relwidth=1.0,relheight=1.0)
    
    def back():
        frm.destroy()
        mainscreen()
        
    def openacountdb():
        name=eName.get()
        pwd=ePassword.get()
        email=eEmail.get()
        mob=eMob.get()
        actype=cb.get()
        bal=0
        opendate=time.ctime()
        
        conobj=sqlite3.connect(database="banking.sqlite")
        curobj=conobj.cursor()
        curobj.execute("insert into accounts(name,pass,email,mob,bal,type,opendate) values(?,?,?,?,?,?,?)", (name,pwd,email,mob,bal,actype,opendate))
        conobj.commit()
        curobj.close()
        
        curobj=conobj.cursor()
        curobj.execute("select max(acn) from accounts")
        tup=curobj.fetchone()
        conobj.close()
        messagebox.showinfo("open account",f"Account opened with ACN:{tup[0]}")
        
    def Reset():
        eName.delete(0,"end")
        ePassword.delete(0,"end")
        eEmail.delete(0,"end")
        eMob.delete(0,"end")
        eName.focus()
    
    
    back_btn=Button(win,text="Back",bd=5,width=5,font=('arial',10,'bold'),command=back)
    back_btn.place(relx=0,rely=.11)
    
    Name=Label(win,text="Name",bd=5,font=('arial',15,'bold'),bg='yellow')
    Name.place(relx=.2,rely=.20)
    eName=Entry(win,bd=5,font=('arial',15,'bold'))
    eName.place(relx=.5,rely=.20)
    
    Password=Label(win,bd=5,text="Password",font=('arial',15,'bold'),bg='yellow')
    Password.place(relx=.2,rely=.30)
    ePassword=Entry(win,bd=5,font=('arial',15,'bold'))
    ePassword.place(relx=.5,rely=.30)

    Email=Label(win,bd=5,text="Email",font=('arial',15,'bold'),bg='yellow')
    Email.place(relx=.2,rely=.40)
    eEmail=Entry(win,bd=5,font=('arial',15,'bold'))
    eEmail.place(relx=.5,rely=.40)
    
    Mob=Label(win,bd=5,text="Moble",font=('arial',15,'bold'),bg='yellow')
    Mob.place(relx=.2,rely=.50)
    eMob=Entry(win,bd=5,font=('arial',15,'bold'))
    eMob.place(relx=.5,rely=.50)
    
    aType=Label(win,bd=5,text="Type",font=('arial',15,'bold'),bg='yellow')
    aType.place(relx=.2,rely=.60)
    cb=Combobox(win,font=('arial',15,'bold'),values=['Saving','Current'])
    cb.current(0)
    cb.place(relx=.5,rely=.60)

    bopen_btn=Button(win,text="Open",bd=5,width=8,font=('arial',15,'bold'),command=openacountdb)
    bopen_btn.place(relx=.30,rely=.75)

    creset_btn=Button(win,text="Reset",bd=5,width=8,font=('arial',15,'bold'),command=Reset)
    creset_btn.place(relx=.6,rely=.75)
    
def fpscreen():
    frm=Frame(win)
    frm.configure(bg='pink')
    frm.place(relx=.0,rely=.11,relwidth=1.0,relheight=1.0)
    
    def back():
        frm.destroy()
        mainscreen()
    
    def Recoverdb():
        acn=eACN.get()
        email=eEmail.get()
        mob=eMob.get()
        conobj=sqlite3.connect(database="banking.sqlite")
        curobj=conobj.cursor()
        curobj.execute("select pass from accounts where acn=? and email=? and mob=?",(uacn,email,mob))
        tup=curobj.fetchone()
        conobj.commit()
        curobj.close()
        if tup==None:
            messagebox.showerror("Forgot Password","Invalid Detaisl")
        else:
            messagebox.showinfo("Forgot Password",f"Your Pass: {tup[0]}")
    
    def Reset():
        eACN.delete(0,"end")
        eEmail.delete(0,"end")
        eMob.delete(0,"end")
        eACN.focus()
    
    back_btn=Button(win,text="Back",bd=5,width=5,font=('arial',10,'bold'),command=back)
    back_btn.place(relx=0,rely=.11)
    
    ACN=Label(win,text="Acn",bd=5,font=('arial',15,'bold'),bg='pink')
    ACN.place(relx=.2,rely=.30)
    eACN=Entry(win,bd=5,font=('arial',15,'bold'))
    eACN.place(relx=.4,rely=.30)
    
    Email=Label(win,text="Email",bd=5,font=('arial',15,'bold'),bg='pink')
    Email.place(relx=.2,rely=.40)
    eEmail=Entry(win,bd=5,font=('arial',15,'bold'))
    eEmail.place(relx=.4,rely=.40)
    
    Mob=Label(win,text="Moble",bd=5,font=('arial',15,'bold'),bg='pink')
    Mob.place(relx=.2,rely=.50)
    eMob=Entry(win,bd=5,font=('arial',15,'bold'))
    eMob.place(relx=.4,rely=.50)
    
    recover_btn=Button(win,text="Recover",bd=5,width=8,font=('arial',15,'bold'),command=Recoverdb)
    recover_btn.place(relx=.4,rely=.65)
    
    reset_btn=Button(win,text="Reset",bd=5,width=8,font=('arial',15,'bold'),command=Reset)
    reset_btn.place(relx=.62,rely=.65)

    
mainscreen()
win.mainloop()
